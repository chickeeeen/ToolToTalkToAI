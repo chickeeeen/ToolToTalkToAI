{
  "nbformat": 4,
  "nbformat_minor": 0,
  "metadata": {
    "colab": {
      "name": "家庭科の授業中にAIと会話するツール",
      "provenance": [],
      "authorship_tag": "ABX9TyOgMF+6SezobzSINoffkAO4",
      "include_colab_link": true
    },
    "kernelspec": {
      "name": "python3",
      "display_name": "Python 3"
    },
    "language_info": {
      "name": "python"
    }
  },
  "cells": [
    {
      "cell_type": "markdown",
      "metadata": {
        "id": "view-in-github",
        "colab_type": "text"
      },
      "source": [
        "<a href=\"https://colab.research.google.com/github/chickenkundayo/-AI-/blob/main/%E5%AE%B6%E5%BA%AD%E7%A7%91%E3%81%AE%E6%8E%88%E6%A5%AD%E4%B8%AD%E3%81%ABAI%E3%81%A8%E4%BC%9A%E8%A9%B1%E3%81%99%E3%82%8B%E3%83%84%E3%83%BC%E3%83%AB.ipynb\" target=\"_parent\"><img src=\"https://colab.research.google.com/assets/colab-badge.svg\" alt=\"Open In Colab\"/></a>"
      ]
    },
    {
      "cell_type": "markdown",
      "metadata": {
        "id": "zzpIlC4phTC1"
      },
      "source": [
        "プログラムを実行すると入力欄が出るので、AIに言いたいことを入力してください。AIから返事が帰ってきて、また返信することで会話をすることができます。時間を持て余し暇なときにご活用ください。"
      ]
    },
    {
      "cell_type": "code",
      "metadata": {
        "id": "EkK3MiolhTNU"
      },
      "source": [
        "import requests\n",
        "\n",
        "def talk_api(message):\n",
        "    apikey = \"DZZDENtDm3RfpAI2ZKe0Vzlz5c7DG8zh\"  #@param {type:\"string\",title:\"キー入力\"}\n",
        "    talk_url = \"https://api.a3rt.recruit-tech.co.jp/talk/v1/smalltalk\"\n",
        "    payload = {\"apikey\": apikey, \"query\": message}\n",
        "    response = requests.post(talk_url, data=payload)\n",
        "    try:\n",
        "        return response.json()[\"results\"][0][\"reply\"]\n",
        "    except:\n",
        "        print(response.json())\n",
        "        return \"今なんて言った？\"\n",
        "\n",
        "def main():\n",
        "     while(True):\n",
        "         print(\"あなた\n",
        "         ：\", end=\"\")\n",
        "         message = input()\n",
        "         print(\"AI：\" + talk_api(message))\n",
        "         \n",
        "if __name__ == \"__main__\":\n",
        "     main()"
      ],
      "execution_count": null,
      "outputs": []
    }
  ]
}